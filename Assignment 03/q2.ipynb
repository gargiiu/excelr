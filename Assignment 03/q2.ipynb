{
 "cells": [
  {
   "cell_type": "code",
   "execution_count": 1,
   "id": "6273f769",
   "metadata": {},
   "outputs": [],
   "source": [
    "import pandas as pd \n",
    "import scipy.stats as stats"
   ]
  },
  {
   "cell_type": "code",
   "execution_count": 2,
   "id": "d598cf60",
   "metadata": {},
   "outputs": [],
   "source": [
    "df = pd.read_csv('LabTAT.csv') "
   ]
  },
  {
   "cell_type": "code",
   "execution_count": 15,
   "id": "12f6488d",
   "metadata": {},
   "outputs": [],
   "source": [
    "lab1_tat = df['Laboratory 1']\n",
    "lab2_tat = df['Laboratory 2']\n",
    "lab3_tat = df['Laboratory 3'] \n",
    "lab4_tat = df['Laboratory 4']\n"
   ]
  },
  {
   "cell_type": "code",
   "execution_count": 16,
   "id": "41b4a6a4",
   "metadata": {},
   "outputs": [],
   "source": [
    "statistic, p_value = stats.f_oneway(lab1_tat, lab2_tat, lab3_tat, lab4_tat)"
   ]
  },
  {
   "cell_type": "code",
   "execution_count": 17,
   "id": "e9190da4",
   "metadata": {},
   "outputs": [
    {
     "name": "stdout",
     "output_type": "stream",
     "text": [
      "One-way ANOVA - p-value: 2.1156708949992414e-57\n"
     ]
    }
   ],
   "source": [
    "print(f\"One-way ANOVA - p-value: {p_value}\")"
   ]
  },
  {
   "cell_type": "code",
   "execution_count": 20,
   "id": "1d3d834f",
   "metadata": {},
   "outputs": [
    {
     "name": "stdout",
     "output_type": "stream",
     "text": [
      "Reject the null hypothesis. There is a significant difference in average TAT among the different laboratories.\n"
     ]
    }
   ],
   "source": [
    "alpha = 0.05\n",
    "if p_value < alpha: \n",
    "    print(\"Reject the null hypothesis. There is a significant difference in average TAT among the different laboratories.\") \n",
    "else:\n",
    "        print(\"Fail to reject the null hypothesis. There is no significant difference in average TAT among the different laboratories.\")"
   ]
  },
  {
   "cell_type": "code",
   "execution_count": null,
   "id": "4800aa30",
   "metadata": {},
   "outputs": [],
   "source": []
  }
 ],
 "metadata": {
  "kernelspec": {
   "display_name": "Python 3 (ipykernel)",
   "language": "python",
   "name": "python3"
  },
  "language_info": {
   "codemirror_mode": {
    "name": "ipython",
    "version": 3
   },
   "file_extension": ".py",
   "mimetype": "text/x-python",
   "name": "python",
   "nbconvert_exporter": "python",
   "pygments_lexer": "ipython3",
   "version": "3.10.9"
  }
 },
 "nbformat": 4,
 "nbformat_minor": 5
}
