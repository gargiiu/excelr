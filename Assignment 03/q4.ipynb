{
 "cells": [
  {
   "cell_type": "code",
   "execution_count": 6,
   "id": "69bf4156",
   "metadata": {},
   "outputs": [],
   "source": [
    "from scipy.stats import chi2_contingency\n",
    "import pandas as pd"
   ]
  },
  {
   "cell_type": "code",
   "execution_count": 7,
   "id": "b9d39a02",
   "metadata": {},
   "outputs": [],
   "source": [
    "df = pd.read_csv('d.csv')"
   ]
  },
  {
   "cell_type": "code",
   "execution_count": 9,
   "id": "e2eebe21",
   "metadata": {},
   "outputs": [],
   "source": [
    "contingency_table = pd.crosstab(index=[df['Phillippines'], \n",
    "                                       df['Indonesia'], \n",
    "                                       df['Malta'], \n",
    "                                       df['India']], columns='count')"
   ]
  },
  {
   "cell_type": "code",
   "execution_count": 10,
   "id": "81c03196",
   "metadata": {},
   "outputs": [],
   "source": [
    "chi2, p, _, _ = chi2_contingency(contingency_table)\n"
   ]
  },
  {
   "cell_type": "code",
   "execution_count": 11,
   "id": "156593ba",
   "metadata": {},
   "outputs": [],
   "source": [
    "alpha = 0.05"
   ]
  },
  {
   "cell_type": "code",
   "execution_count": 12,
   "id": "bbb37fb7",
   "metadata": {},
   "outputs": [
    {
     "name": "stdout",
     "output_type": "stream",
     "text": [
      "Fail to reject the null hypothesis. There is no significant evidence that the distribution of order forms varies by center (p-value: 1.0000)\n"
     ]
    }
   ],
   "source": [
    "if p < alpha:\n",
    "    print(f\"Reject the null hypothesis. There is evidence that the distribution of order forms varies by center (p-value: {p:.4f})\")\n",
    "else:\n",
    "    print(f\"Fail to reject the null hypothesis. There is no significant evidence that the distribution of order forms varies by center (p-value: {p:.4f})\")"
   ]
  },
  {
   "cell_type": "code",
   "execution_count": null,
   "id": "560e968d",
   "metadata": {},
   "outputs": [],
   "source": []
  }
 ],
 "metadata": {
  "kernelspec": {
   "display_name": "Python 3 (ipykernel)",
   "language": "python",
   "name": "python3"
  },
  "language_info": {
   "codemirror_mode": {
    "name": "ipython",
    "version": 3
   },
   "file_extension": ".py",
   "mimetype": "text/x-python",
   "name": "python",
   "nbconvert_exporter": "python",
   "pygments_lexer": "ipython3",
   "version": "3.10.9"
  }
 },
 "nbformat": 4,
 "nbformat_minor": 5
}
