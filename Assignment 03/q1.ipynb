{
 "cells": [
  {
   "cell_type": "code",
   "execution_count": 3,
   "id": "9d3fbb6a",
   "metadata": {},
   "outputs": [],
   "source": [
    "import scipy.stats as stats \n",
    "import numpy as np\n",
    "import pandas as pd"
   ]
  },
  {
   "cell_type": "code",
   "execution_count": 5,
   "id": "d56deb89",
   "metadata": {},
   "outputs": [],
   "source": [
    "df=pd.read_csv('Cutlets.csv')"
   ]
  },
  {
   "cell_type": "code",
   "execution_count": 10,
   "id": "ae66d20e",
   "metadata": {},
   "outputs": [],
   "source": [
    "unit1_diameters = df['Unit A']\n",
    "unit2_diameters = df['Unit B']"
   ]
  },
  {
   "cell_type": "code",
   "execution_count": 11,
   "id": "043562e8",
   "metadata": {},
   "outputs": [],
   "source": [
    "_, p_value_unit1_normality = stats.shapiro(unit1_diameters)\n",
    "_, p_value_unit2_normality = stats.shapiro(unit2_diameters)"
   ]
  },
  {
   "cell_type": "code",
   "execution_count": 12,
   "id": "071074b3",
   "metadata": {},
   "outputs": [],
   "source": [
    "_, p_value_variances = stats.levene(unit1_diameters, unit2_diameters)"
   ]
  },
  {
   "cell_type": "code",
   "execution_count": 13,
   "id": "def8462b",
   "metadata": {},
   "outputs": [],
   "source": [
    "_, p_value_ttest = stats.ttest_ind(unit1_diameters, unit2_diameters, equal_var=True)"
   ]
  },
  {
   "cell_type": "code",
   "execution_count": 14,
   "id": "ef3a56aa",
   "metadata": {},
   "outputs": [
    {
     "name": "stdout",
     "output_type": "stream",
     "text": [
      "Normality Test - Unit 1: p-value = 0.31998491287231445\n",
      "Normality Test - Unit 2: p-value = 0.5225146412849426\n",
      "Homogeneity of Variance Test: p-value = 0.4176162212502553\n",
      "Two-sample t-test: p-value = 0.4722394724599501\n"
     ]
    }
   ],
   "source": [
    "print(f\"Normality Test - Unit 1: p-value = {p_value_unit1_normality}\") \n",
    "print(f\"Normality Test - Unit 2: p-value = {p_value_unit2_normality}\")\n",
    "print(f\"Homogeneity of Variance Test: p-value = {p_value_variances}\") \n",
    "print(f\"Two-sample t-test: p-value = {p_value_ttest}\")"
   ]
  },
  {
   "cell_type": "code",
   "execution_count": 23,
   "id": "9e5628d4",
   "metadata": {},
   "outputs": [
    {
     "name": "stdout",
     "output_type": "stream",
     "text": [
      "Assumptions met. Proceed with the two-sample t-test.\n",
      "Fail to reject the null hypothesis. There is no significant difference in the diameter of the cutlet between the two units.\n"
     ]
    }
   ],
   "source": [
    "alpha = 0.05\n",
    "if p_value_unit1_normality > alpha and p_value_unit2_normality > alpha and p_value_variances > alpha: \n",
    "    print(\"Assumptions met. Proceed with the two-sample t-test.\")\n",
    "\n",
    "    if p_value_ttest < alpha:\n",
    "        print(\"Reject the null hypothesis. There is a significant difference in the diameter of the cutlet between the two units.\")\n",
    "    else:\n",
    "         print(\"Fail to reject the null hypothesis. There is no significant difference in the diameter of the cutlet between the two units.\")\n",
    "else: print(\"Assumptions not met. Consider alternative methods or transformations.\")"
   ]
  },
  {
   "cell_type": "code",
   "execution_count": null,
   "id": "e661028b",
   "metadata": {},
   "outputs": [],
   "source": []
  }
 ],
 "metadata": {
  "kernelspec": {
   "display_name": "Python 3 (ipykernel)",
   "language": "python",
   "name": "python3"
  },
  "language_info": {
   "codemirror_mode": {
    "name": "ipython",
    "version": 3
   },
   "file_extension": ".py",
   "mimetype": "text/x-python",
   "name": "python",
   "nbconvert_exporter": "python",
   "pygments_lexer": "ipython3",
   "version": "3.10.9"
  }
 },
 "nbformat": 4,
 "nbformat_minor": 5
}
