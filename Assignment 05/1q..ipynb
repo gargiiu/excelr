{
 "cells": [
  {
   "cell_type": "code",
   "execution_count": 1,
   "id": "60206938",
   "metadata": {},
   "outputs": [],
   "source": [
    "import pandas as pd\n",
    "from sklearn.model_selection import train_test_split\n",
    "from sklearn.linear_model import LinearRegression\n",
    "from sklearn.ensemble import RandomForestRegressor\n",
    "from sklearn.metrics import r2_score, mean_squared_error\n",
    "from sklearn.preprocessing import OneHotEncoder\n",
    "from sklearn.compose import ColumnTransformer"
   ]
  },
  {
   "cell_type": "code",
   "execution_count": 2,
   "id": "a60c73f3",
   "metadata": {},
   "outputs": [],
   "source": [
    "data = pd.read_csv('50_Startups.csv')"
   ]
  },
  {
   "cell_type": "code",
   "execution_count": 3,
   "id": "2e169394",
   "metadata": {},
   "outputs": [
    {
     "name": "stdout",
     "output_type": "stream",
     "text": [
      "   R&D Spend  Administration  Marketing Spend       State     Profit\n",
      "0  165349.20       136897.80        471784.10    New York  192261.83\n",
      "1  162597.70       151377.59        443898.53  California  191792.06\n",
      "2  153441.51       101145.55        407934.54     Florida  191050.39\n",
      "3  144372.41       118671.85        383199.62    New York  182901.99\n",
      "4  142107.34        91391.77        366168.42     Florida  166187.94\n"
     ]
    }
   ],
   "source": [
    "print(data.head())\n"
   ]
  },
  {
   "cell_type": "code",
   "execution_count": 4,
   "id": "df285554",
   "metadata": {},
   "outputs": [],
   "source": [
    "X = data.drop('Profit', axis=1)\n",
    "y = data['Profit']\n"
   ]
  },
  {
   "cell_type": "code",
   "execution_count": 5,
   "id": "59c2c0c8",
   "metadata": {},
   "outputs": [],
   "source": [
    "ct = ColumnTransformer(\n",
    "    transformers=[\n",
    "        ('encoder', OneHotEncoder(), ['State'])\n",
    "    ],\n",
    "    remainder='passthrough'\n",
    ")\n",
    "X_encoded = ct.fit_transform(X)"
   ]
  },
  {
   "cell_type": "code",
   "execution_count": 6,
   "id": "cd7e8b59",
   "metadata": {},
   "outputs": [],
   "source": [
    "X_train, X_test, y_train, y_test = train_test_split(X_encoded, y, test_size=0.2, random_state=42)"
   ]
  },
  {
   "cell_type": "code",
   "execution_count": 7,
   "id": "bc55682a",
   "metadata": {},
   "outputs": [],
   "source": [
    "models = {\n",
    "    'Linear Regression': LinearRegression(),\n",
    "    'Random Forest': RandomForestRegressor()\n",
    "}"
   ]
  },
  {
   "cell_type": "code",
   "execution_count": 8,
   "id": "6e6770f0",
   "metadata": {},
   "outputs": [],
   "source": [
    "r2_values = {}"
   ]
  },
  {
   "cell_type": "code",
   "execution_count": 9,
   "id": "a614cff1",
   "metadata": {},
   "outputs": [],
   "source": [
    "for model_name, model in models.items():\n",
    "    model.fit(X_train, y_train)\n",
    "    y_pred = model.predict(X_test)\n",
    "    r2 = r2_score(y_test, y_pred)\n",
    "    r2_values[model_name] = r2\n"
   ]
  },
  {
   "cell_type": "code",
   "execution_count": 10,
   "id": "256ae30a",
   "metadata": {},
   "outputs": [],
   "source": [
    "table_data = {'Model': list(r2_values.keys()), 'R^2 Value': list(r2_values.values())}\n",
    "r2_table = pd.DataFrame(table_data)\n"
   ]
  },
  {
   "cell_type": "code",
   "execution_count": 11,
   "id": "76bb047f",
   "metadata": {},
   "outputs": [
    {
     "name": "stdout",
     "output_type": "stream",
     "text": [
      "\n",
      "R-squared values for each model:\n",
      "               Model  R^2 Value\n",
      "0  Linear Regression   0.898727\n",
      "1      Random Forest   0.886782\n"
     ]
    }
   ],
   "source": [
    "print(\"\\nR-squared values for each model:\")\n",
    "print(r2_table)"
   ]
  },
  {
   "cell_type": "code",
   "execution_count": 12,
   "id": "01293bd3",
   "metadata": {},
   "outputs": [],
   "source": [
    "predictions={}"
   ]
  },
  {
   "cell_type": "code",
   "execution_count": 13,
   "id": "734b8df8",
   "metadata": {},
   "outputs": [
    {
     "name": "stdout",
     "output_type": "stream",
     "text": [
      "Linear Regression R^2 Value: 0.8987266414319495\n",
      "Random Forest R^2 Value: 0.9170838424360246\n"
     ]
    }
   ],
   "source": [
    "for model_name, model in models.items():\n",
    "    model.fit(X_train, y_train)\n",
    "    y_pred = model.predict(X_test)\n",
    "    predictions[model_name] = y_pred\n",
    "\n",
    "    r2 = r2_score(y_test, y_pred)\n",
    "    print(f\"{model_name} R^2 Value: {r2}\")\n"
   ]
  },
  {
   "cell_type": "code",
   "execution_count": 14,
   "id": "e24056e1",
   "metadata": {},
   "outputs": [
    {
     "name": "stdout",
     "output_type": "stream",
     "text": [
      "\n",
      "Linear Regression Predicted Values:\n",
      "       Actual      Predicted\n",
      "13  134307.35  126362.879083\n",
      "39   81005.76   84608.453836\n",
      "30   99937.59   99677.494252\n",
      "45   64926.08   46357.460686\n",
      "17  125370.37  128750.482885\n",
      "48   35673.41   50912.417419\n",
      "26  105733.54  109741.350327\n",
      "25  107404.34  100643.242816\n",
      "32   97427.84   97599.275746\n",
      "19  122776.86  113097.425244\n",
      "\n",
      "Random Forest Predicted Values:\n",
      "       Actual    Predicted\n",
      "13  134307.35  133492.5495\n",
      "39   81005.76   88025.1050\n",
      "30   99937.59   99423.9868\n",
      "45   64926.08   43673.9432\n",
      "17  125370.37  130860.4255\n",
      "48   35673.41   41303.4978\n",
      "26  105733.54  113138.3775\n",
      "25  107404.34  103859.1606\n",
      "32   97427.84   99222.4320\n",
      "19  122776.86  128870.8888\n"
     ]
    }
   ],
   "source": [
    "for model_name, y_pred in predictions.items():\n",
    "    print(f\"\\n{model_name} Predicted Values:\")\n",
    "    predicted_values = pd.DataFrame({'Actual': y_test, 'Predicted': y_pred})\n",
    "    print(predicted_values)"
   ]
  },
  {
   "cell_type": "code",
   "execution_count": null,
   "id": "a8e63a33",
   "metadata": {},
   "outputs": [],
   "source": []
  }
 ],
 "metadata": {
  "kernelspec": {
   "display_name": "Python 3 (ipykernel)",
   "language": "python",
   "name": "python3"
  },
  "language_info": {
   "codemirror_mode": {
    "name": "ipython",
    "version": 3
   },
   "file_extension": ".py",
   "mimetype": "text/x-python",
   "name": "python",
   "nbconvert_exporter": "python",
   "pygments_lexer": "ipython3",
   "version": "3.10.9"
  }
 },
 "nbformat": 4,
 "nbformat_minor": 5
}
