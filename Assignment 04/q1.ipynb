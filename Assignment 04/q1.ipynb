{
 "cells": [
  {
   "cell_type": "code",
   "execution_count": 9,
   "id": "4e612ac5",
   "metadata": {},
   "outputs": [],
   "source": [
    "import pandas as pd\n",
    "import numpy as np\n",
    "import seaborn as sns\n",
    "import matplotlib.pyplot as plt\n",
    "from sklearn.model_selection import train_test_split\n",
    "from sklearn.linear_model import LinearRegression\n",
    "from sklearn.metrics import mean_squared_error"
   ]
  },
  {
   "cell_type": "code",
   "execution_count": 10,
   "id": "a76cabd4",
   "metadata": {},
   "outputs": [],
   "source": [
    "data = pd.read_csv('delivery_time.csv')"
   ]
  },
  {
   "cell_type": "code",
   "execution_count": 11,
   "id": "426a1efb",
   "metadata": {},
   "outputs": [
    {
     "name": "stdout",
     "output_type": "stream",
     "text": [
      "   Delivery Time  Sorting Time\n",
      "0          21.00            10\n",
      "1          13.50             4\n",
      "2          19.75             6\n",
      "3          24.00             9\n",
      "4          29.00            10\n"
     ]
    }
   ],
   "source": [
    "print(data.head())\n"
   ]
  },
  {
   "cell_type": "code",
   "execution_count": 12,
   "id": "1e449008",
   "metadata": {},
   "outputs": [
    {
     "data": {
      "image/png": "[encoded data removed]",
      "text/plain": [
       "<Figure size 640x480 with 1 Axes>"
      ]
     },
     "metadata": {},
     "output_type": "display_data"
    }
   ],
   "source": [
    "sns.scatterplot(x=data['Sorting Time'], y=data['Delivery Time'])\n",
    "plt.title('Scatter Plot of Delivery Time vs Sorting Time')\n",
    "plt.xlabel('Sorting Time')\n",
    "plt.ylabel('Delivery Time')\n",
    "plt.show()"
   ]
  },
  {
   "cell_type": "code",
   "execution_count": 14,
   "id": "1bc2ec39",
   "metadata": {},
   "outputs": [],
   "source": [
    "X = data[['Sorting Time']]\n",
    "y = data['Delivery Time']"
   ]
  },
  {
   "cell_type": "code",
   "execution_count": 15,
   "id": "f71c5672",
   "metadata": {},
   "outputs": [],
   "source": [
    "X_train, X_test, y_train, y_test = train_test_split(X, y, test_size=0.2, random_state=42)"
   ]
  },
  {
   "cell_type": "code",
   "execution_count": 16,
   "id": "4373934a",
   "metadata": {},
   "outputs": [],
   "source": [
    "def calculate_rmse(y_true, y_pred):\n",
    "    return np.sqrt(mean_squared_error(y_true, y_pred))"
   ]
  },
  {
   "cell_type": "code",
   "execution_count": 17,
   "id": "18b8252d",
   "metadata": {},
   "outputs": [],
   "source": [
    "model_initial = LinearRegression()\n",
    "model_initial.fit(X_train, y_train)\n",
    "y_pred_initial = model_initial.predict(X_test)\n",
    "rmse_initial = calculate_rmse(y_test, y_pred_initial)"
   ]
  },
  {
   "cell_type": "code",
   "execution_count": 18,
   "id": "0ac658d9",
   "metadata": {},
   "outputs": [
    {
     "name": "stdout",
     "output_type": "stream",
     "text": [
      "Initial Linear Regression Model RMSE: 3.7478979383962705\n"
     ]
    }
   ],
   "source": [
    "print(\"Initial Linear Regression Model RMSE:\", rmse_initial)"
   ]
  },
  {
   "cell_type": "code",
   "execution_count": 19,
   "id": "ae41b85e",
   "metadata": {},
   "outputs": [],
   "source": [
    "transformations = ['log', 'square', 'sqrt']\n",
    "for transformation in transformations:\n",
    "    X_transformed_train = getattr(np, transformation)(X_train)\n",
    "    X_transformed_test = getattr(np, transformation)(X_test)"
   ]
  },
  {
   "cell_type": "code",
   "execution_count": 21,
   "id": "cc697898",
   "metadata": {},
   "outputs": [],
   "source": [
    "model_transformed = LinearRegression()\n",
    "model_transformed.fit(X_transformed_train, y_train)\n",
    "y_pred_transformed = model_transformed.predict(X_transformed_test)\n",
    "rmse_transformed = calculate_rmse(y_test, y_pred_transformed)"
   ]
  },
  {
   "cell_type": "code",
   "execution_count": 22,
   "id": "b424eef4",
   "metadata": {},
   "outputs": [
    {
     "name": "stdout",
     "output_type": "stream",
     "text": [
      "Sqrt Transformed Linear Regression Model RMSE: 3.1403397617192867\n"
     ]
    }
   ],
   "source": [
    "print(f\"{transformation.capitalize()} Transformed Linear Regression Model RMSE:\", rmse_transformed)"
   ]
  },
  {
   "cell_type": "code",
   "execution_count": null,
   "id": "6b38ed18",
   "metadata": {},
   "outputs": [],
   "source": []
  },
  {
   "cell_type": "code",
   "execution_count": null,
   "id": "b178e0da",
   "metadata": {},
   "outputs": [],
   "source": []
  },
  {
   "cell_type": "code",
   "execution_count": null,
   "id": "36aacc02",
   "metadata": {},
   "outputs": [],
   "source": []
  }
 ],
 "metadata": {
  "kernelspec": {
   "display_name": "Python 3 (ipykernel)",
   "language": "python",
   "name": "python3"
  },
  "language_info": {
   "codemirror_mode": {
    "name": "ipython",
    "version": 3
   },
   "file_extension": ".py",
   "mimetype": "text/x-python",
   "name": "python",
   "nbconvert_exporter": "python",
   "pygments_lexer": "ipython3",
   "version": "3.10.9"
  }
 },
 "nbformat": 4,
 "nbformat_minor": 5
}
